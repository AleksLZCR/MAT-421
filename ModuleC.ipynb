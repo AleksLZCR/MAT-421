{
  "nbformat": 4,
  "nbformat_minor": 0,
  "metadata": {
    "colab": {
      "provenance": [],
      "authorship_tag": "ABX9TyOdxTlAJczc6ouqH9iLNxFk",
      "include_colab_link": true
    },
    "kernelspec": {
      "name": "python3",
      "display_name": "Python 3"
    },
    "language_info": {
      "name": "python"
    }
  },
  "cells": [
    {
      "cell_type": "markdown",
      "metadata": {
        "id": "view-in-github",
        "colab_type": "text"
      },
      "source": [
        "<a href=\"https://colab.research.google.com/github/AleksLZCR/MAT-421/blob/main/ModuleC.ipynb\" target=\"_parent\"><img src=\"https://colab.research.google.com/assets/colab-badge.svg\" alt=\"Open In Colab\"/></a>"
      ]
    },
    {
      "cell_type": "markdown",
      "source": [
        "HW4 - Aleksandr Cooper"
      ],
      "metadata": {
        "id": "Tkq8qKvvrEJD"
      }
    },
    {
      "cell_type": "markdown",
      "source": [
        "19.1 Root Finding Problem Statement"
      ],
      "metadata": {
        "id": "2C-O7sKjrIEY"
      }
    },
    {
      "cell_type": "markdown",
      "source": [
        "* Root finding has many applications in engineering; signal processing and optimization to name two. It is usually quite simple to find roots of simple polynomial functions using the quadratic formula, however this method does not extend to more complex functions.\n",
        "* Root of a function == zero of a function; where the function crosses the x axis. A root of the function F(x) satisfies F(root) = 0\n",
        "* Some roots are difficult to determine exactly so a numerical approximation is often used instead"
      ],
      "metadata": {
        "id": "FWgxiCj7rgSv"
      }
    },
    {
      "cell_type": "code",
      "execution_count": 7,
      "metadata": {
        "colab": {
          "base_uri": "https://localhost:8080/"
        },
        "id": "ccIgWMMMrAHn",
        "outputId": "033f575f-d7c0-4d93-f026-e808904a4902"
      },
      "outputs": [
        {
          "output_type": "stream",
          "name": "stdout",
          "text": [
            "r = [0.73908513]\n",
            "result= [0.]\n"
          ]
        }
      ],
      "source": [
        "# An example of using numerical approximation to find the root of the function cos(x) - x near -1\n",
        "\n",
        "import numpy as np\n",
        "from scipy import optimize\n",
        "\n",
        "f = lambda x: np.cos(x) - x\n",
        "r = optimize.fsolve(f, -1) # Approximate the root\n",
        "print(\"r =\", r)\n",
        "\n",
        "result = f(r) # Check the result\n",
        "print(\"result=\", result)"
      ]
    },
    {
      "cell_type": "markdown",
      "source": [
        "As we can see, the result was approximated very nicely.\n",
        "\n",
        "Some functions (1/x^2) have no roots. fsolve will still attempt to find one, and it will return a very small number, but the result will never equal zero."
      ],
      "metadata": {
        "id": "0IEab3PEtXxs"
      }
    },
    {
      "cell_type": "code",
      "source": [
        "# An example of using fsolve on a function with no roots\n",
        "\n",
        "f = lambda x: 1/x**2\n",
        "\n",
        "r, infodict, ier, mesg = optimize.fsolve(f, -2, full_output=True)\n",
        "print(\"r =\", r)\n",
        "\n",
        "result = f(r)\n",
        "print(\"result=\", result)\n",
        "\n",
        "print(mesg)"
      ],
      "metadata": {
        "colab": {
          "base_uri": "https://localhost:8080/"
        },
        "id": "uMKdWWRWtlN2",
        "outputId": "36ad07aa-d10b-47c8-964f-612c00044d60"
      },
      "execution_count": 9,
      "outputs": [
        {
          "output_type": "stream",
          "name": "stdout",
          "text": [
            "r = [-8.83517051e+48]\n",
            "result= [1.28106194e-98]\n",
            "The number of calls to function has reached maxfev = 400.\n"
          ]
        }
      ]
    },
    {
      "cell_type": "markdown",
      "source": [
        "19.2 Tolerance"
      ],
      "metadata": {
        "id": "tOtVnJeUrN4T"
      }
    },
    {
      "cell_type": "markdown",
      "source": [
        "* While error is defined as a deviation from an expected or computed value, tolerance is the level of error that is acceptable for an engineering application.\n",
        "* A result is considered a solution when it has an error smaller than the tolerance.\n",
        "* If a root approximation returns a value whose magnitude is close to zero, it can be assumed to be a usable root.\n",
        "* Tolerances must be carefully considered on a per application basis to ensure results are usable.\n",
        "* Special attention must also be given to tolerance stack. Two individual operations can yield results within tolerance, but successive operations can lead to the result exceeding tolerance."
      ],
      "metadata": {
        "id": "7XN8noNpt3P9"
      }
    },
    {
      "cell_type": "markdown",
      "source": [
        "19.3 Bisection Method"
      ],
      "metadata": {
        "id": "17VuMNFlrRe4"
      }
    },
    {
      "cell_type": "markdown",
      "source": [
        "* Intermediate Value Theorem (IVT): if a function is continuous between a pair of points a, b, for any value f(c) that satisfies f(a) > f(c) > f(b), there exists a point c such that a < c < b.\n",
        "* The Bisection Method uses the IVT iteratively to find roots.\n",
        "* If there exist two points on a continous function where f(a) > 0 and f(b) < 0, there must exist some root on the open interval (a, b)\n",
        "* The Bisection Method calculates the midpoint between the two points\n",
        "* If the midpoint is within tolerance, it is declared the root\n",
        "* If the midpoint is outside tolerance and positive, it becomes the new a\n",
        "* If the midpoint is outside tolerance and negative, it becomes the new b"
      ],
      "metadata": {
        "id": "L_iFIt5lu9KN"
      }
    },
    {
      "cell_type": "code",
      "source": [
        "# An example of using bisection to approximate roots\n",
        "\n",
        "import numpy as np\n",
        "\n",
        "def my_bisection(f, a, b, tol):\n",
        "\n",
        "    if np.sign(f(a)) == np.sign(f(b)):  # Root check (IVT)\n",
        "        raise Exception(\n",
        "         \"No roots between a and b\")\n",
        "\n",
        "    m = (a + b)/2                       # Calculate midpoint\n",
        "\n",
        "    if np.abs(f(m)) < tol:\n",
        "        return m                        # Root discovered within tolerance\n",
        "    elif np.sign(f(a)) == np.sign(f(m)):\n",
        "        return my_bisection(f, m, b, tol) # Result outside of tolerance and positive\n",
        "    elif np.sign(f(b)) == np.sign(f(m)):\n",
        "        return my_bisection(f, a, m, tol) # Result outside of tolerance and negative\n",
        "\n",
        "# Use bisection function on x^2 - 2\n",
        "f = lambda x: x**2 - 2\n",
        "\n",
        "r1 = my_bisection(f, 0, 2, 0.1)   # Higher tolerance\n",
        "print(\"r1 =\", r1)\n",
        "r01 = my_bisection(f, 0, 2, 0.01) # Lower tolerance\n",
        "print(\"r01 =\", r01)\n",
        "\n",
        "print(\"f(r1) =\", f(r1))\n",
        "print(\"f(r01) =\", f(r01))"
      ],
      "metadata": {
        "colab": {
          "base_uri": "https://localhost:8080/"
        },
        "id": "WcoMDqfSwKEF",
        "outputId": "0aedf1dd-4e33-4443-c7a7-97468b921edf"
      },
      "execution_count": 11,
      "outputs": [
        {
          "output_type": "stream",
          "name": "stdout",
          "text": [
            "r1 = 1.4375\n",
            "r01 = 1.4140625\n",
            "f(r1) = 0.06640625\n",
            "f(r01) = -0.00042724609375\n"
          ]
        }
      ]
    },
    {
      "cell_type": "markdown",
      "source": [
        "As can be observed, the function returns a value much sooner on the higher tolerance run, and the value is not as exact as the one returned by the lower tolerance run."
      ],
      "metadata": {
        "id": "8B8W8wBAxYK2"
      }
    },
    {
      "cell_type": "markdown",
      "source": [
        "19.4 Newton-Raphson Method\n",
        "\n",
        "* This method works by taking a guess at the root and then taking linear approximations around the guess to find its intersection with the x axis\n",
        "* A Newton Step computes an improved guess using a previous guess\n",
        "* The Newton-Raphson Method iterates Newton steps from an initial guess until the error is less than the tolerance\n"
      ],
      "metadata": {
        "id": "340RpiqVrV6d"
      }
    },
    {
      "cell_type": "code",
      "source": [
        "# An example of using the Newton Raphson Method to find roots\n",
        "\n",
        "import numpy as np\n",
        "\n",
        "f = lambda x: x**2 - 2\n",
        "f_prime = lambda x: 2*x\n",
        "newton_raphson = 1.4 - (f(1.4))/(f_prime(1.4))\n",
        "\n",
        "print(\"newton_raphson =\", newton_raphson)\n",
        "print(\"sqrt(2) =\", np.sqrt(2))\n",
        "\n",
        "def my_newton(f, df, x0, tol): # Recursive implementation of Newton Raphson\n",
        "    if abs(f(x0)) < tol:\n",
        "        return x0\n",
        "    else:\n",
        "        return my_newton(f, df, x0 - f(x0)/df(x0), tol)\n",
        "\n",
        "estimate = my_newton(f, f_prime, 1.5, 1e-6)\n",
        "print(\"estimate =\", estimate)\n",
        "print(\"sqrt(2) =\", np.sqrt(2))"
      ],
      "metadata": {
        "colab": {
          "base_uri": "https://localhost:8080/"
        },
        "id": "LswM4MyK6cwJ",
        "outputId": "56164153-59a6-4a71-cdeb-60bdf7bf6f17"
      },
      "execution_count": 13,
      "outputs": [
        {
          "output_type": "stream",
          "name": "stdout",
          "text": [
            "newton_raphson = 1.4142857142857144\n",
            "sqrt(2) = 1.4142135623730951\n",
            "estimate = 1.4142135623746899\n",
            "sqrt(2) = 1.4142135623730951\n"
          ]
        }
      ]
    },
    {
      "cell_type": "markdown",
      "source": [
        "The values are quite close so we could consider the solution to converge."
      ],
      "metadata": {
        "id": "3BDU_s_V69i2"
      }
    },
    {
      "cell_type": "markdown",
      "source": [
        "19.5 Root Finding in Python"
      ],
      "metadata": {
        "id": "1E6xGGK9raOW"
      }
    },
    {
      "cell_type": "markdown",
      "source": [
        "Thankfully we live in modern times and don't always have to bother with such tedious methods. Python contains its own root finding function that can be utilized in just a few lines."
      ],
      "metadata": {
        "id": "1QsbKJkX7FLf"
      }
    },
    {
      "cell_type": "code",
      "source": [
        "# An example of using the Python root finding function\n",
        "\n",
        "from scipy.optimize import fsolve\n",
        "\n",
        "f = lambda x: x**3-100*x**2-x+100\n",
        "\n",
        "fsolve(f, [2, 80])\n",
        "\n",
        "\n"
      ],
      "metadata": {
        "colab": {
          "base_uri": "https://localhost:8080/"
        },
        "id": "L7JtnybErFLh",
        "outputId": "691ee1c7-6a57-4822-9df5-a8b578e0d309"
      },
      "execution_count": 17,
      "outputs": [
        {
          "output_type": "execute_result",
          "data": {
            "text/plain": [
              "array([  1., 100.])"
            ]
          },
          "metadata": {},
          "execution_count": 17
        }
      ]
    },
    {
      "cell_type": "code",
      "source": [
        "f = lambda x: x**7-569*x**9-x+10000 - x**(0.5)\n",
        "\n",
        "fsolve(f, [2, 80])"
      ],
      "metadata": {
        "colab": {
          "base_uri": "https://localhost:8080/"
        },
        "id": "Q6au7iN27sJ2",
        "outputId": "b413c642-52ba-4d0e-c513-6e281d10ea1d"
      },
      "execution_count": 16,
      "outputs": [
        {
          "output_type": "execute_result",
          "data": {
            "text/plain": [
              "array([1.37561467, 1.37516063])"
            ]
          },
          "metadata": {},
          "execution_count": 16
        }
      ]
    }
  ]
}