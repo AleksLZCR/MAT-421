{
  "nbformat": 4,
  "nbformat_minor": 0,
  "metadata": {
    "colab": {
      "provenance": [],
      "authorship_tag": "ABX9TyNGvQpCusV8s/bz84JaRTrn",
      "include_colab_link": true
    },
    "kernelspec": {
      "name": "python3",
      "display_name": "Python 3"
    },
    "language_info": {
      "name": "python"
    }
  },
  "cells": [
    {
      "cell_type": "markdown",
      "metadata": {
        "id": "view-in-github",
        "colab_type": "text"
      },
      "source": [
        "<a href=\"https://colab.research.google.com/github/AleksLZCR/MAT-421/blob/main/ModuleG_2.ipynb\" target=\"_parent\"><img src=\"https://colab.research.google.com/assets/colab-badge.svg\" alt=\"Open In Colab\"/></a>"
      ]
    },
    {
      "cell_type": "markdown",
      "source": [
        "HW9 - Aleksandr Cooper\n",
        "\n",
        "21.4 - Simpson's Rule\n",
        "*   Give two subintervals [xi-1. xi] and [xi, xi+1], Simpson's rule approximates the area under f(x) over these two subintervals.\n",
        "*   It works by fitting a quadratic polynomial through the points (xi−1,f(xi−1)),(xi,f(xi)), and (xi+1,f(xi+1))\n",
        "*   That polynomial then gets integrated exactly\n",
        "*   A simple way to constrict the quadratic polynomial is using Lagrange polynomials\n",
        "*   To use Simpson's rule, it is required that there are an even number of intervals which implies an odd number of grid points\n",
        "*   Of course, as with many things with lots of error prone steps, Simpson's rule can be computed in Python"
      ],
      "metadata": {
        "id": "X_4GefxDMgo4"
      }
    },
    {
      "cell_type": "code",
      "execution_count": 9,
      "metadata": {
        "colab": {
          "base_uri": "https://localhost:8080/"
        },
        "id": "o6tUxGmwMaL-",
        "outputId": "22f585d3-a38b-44c0-a577-82abe6779ff5"
      },
      "outputs": [
        {
          "output_type": "stream",
          "name": "stdout",
          "text": [
            "Simpson's approximation: 8.821685475443087e-17\n",
            "Simpson's appriximation error: -8.821685475443087e-17\n"
          ]
        }
      ],
      "source": [
        "# This is an example of approximating an integral using Simpson's rule in Python\n",
        "# This takes the area under the curve of sin(x) from 0 to 2pi and compares it to the exact value\n",
        "\n",
        "import numpy as np\n",
        "\n",
        "a = 0\n",
        "b = 2 * np.pi\n",
        "n = 11\n",
        "h = (b - a) / (n - 1)\n",
        "x = np.linspace(a, b, n)\n",
        "f = np.sin(x)\n",
        "\n",
        "I_simp = (h/3) * (f[0] + 2*sum(f[:n-2:2]) + 4*sum(f[1:n-1:2]) + f[n-1])\n",
        "err_simp = 0 - I_simp\n",
        "\n",
        "print(\"Simpson's approximation: \" + str(I_simp))\n",
        "print(\"Simpson's appriximation error: \" + str(err_simp))"
      ]
    },
    {
      "cell_type": "markdown",
      "source": [
        "As we can see, the values are very close meaning that Simpson's algorithm provides an accurate approximation in this scenario.\n",
        "\n",
        "21.5 - Computing Integrals in Python\n",
        "*   Python contains several helpful libraries for approximating integrals\n",
        "*   Scipy.integrate is one such library which contains functions for approximating integrals using the trapezoid rule, cumulative integral, and quad numerical differentiation."
      ],
      "metadata": {
        "id": "p9uCWUfpQvtr"
      }
    },
    {
      "cell_type": "code",
      "source": [
        "# Using scipy.integrate to approximate an integral using the Trapezoid rule\n",
        "\n",
        "import numpy as np\n",
        "from scipy.integrate import trapz\n",
        "\n",
        "a = 0\n",
        "b = 2 * np.pi\n",
        "n = 11\n",
        "h = (b - a) / (n - 1)\n",
        "x = np.linspace(a, b, n)\n",
        "f = np.sin(x)\n",
        "\n",
        "I_trapz = trapz(f,x)\n",
        "I_trap = (h/2)*(f[0] + 2 * sum(f[1:n-1]) + f[n-1])\n",
        "\n",
        "print(\"Trapezoid Rule Integration: \" + str(I_trapz))\n",
        "print(\"Trapezoid Rule Error: \" + str(I_trap))"
      ],
      "metadata": {
        "colab": {
          "base_uri": "https://localhost:8080/"
        },
        "id": "31y13pqxR2Z0",
        "outputId": "fa84651a-5576-454e-8d46-17f64113ecd5"
      },
      "execution_count": 14,
      "outputs": [
        {
          "output_type": "stream",
          "name": "stdout",
          "text": [
            "Trapezoid Rule Integration: 1.6653345369377348e-16\n",
            "Trapezoid Rule Error: -7.694682774887159e-17\n"
          ]
        }
      ]
    },
    {
      "cell_type": "markdown",
      "source": [
        "The values are close but there are some differences in the final result"
      ],
      "metadata": {
        "id": "MJvqfhKmSe__"
      }
    },
    {
      "cell_type": "code",
      "source": [
        "# Using scipy.integrate to approximate an integral using the quad function\n",
        "\n",
        "from scipy.integrate import quad\n",
        "\n",
        "I_quad, est_err_quad = quad(np.sin, 0, 2* np.pi)\n",
        "err_quad = 0 - I_quad\n",
        "\n",
        "print(\"Quad Integral Results: \" + str(I_quad))\n",
        "print(\"Error: \" + str(est_err_quad) + \" \" + str(err_quad))\n"
      ],
      "metadata": {
        "colab": {
          "base_uri": "https://localhost:8080/"
        },
        "id": "rh8f113BSofA",
        "outputId": "a388fd94-d20c-4234-b829-efe96ba8a692"
      },
      "execution_count": 18,
      "outputs": [
        {
          "output_type": "stream",
          "name": "stdout",
          "text": [
            "Quad Integral Results: 2.221501482512777e-16\n",
            "Error: 4.3998892617845996e-14 -2.221501482512777e-16\n"
          ]
        }
      ]
    },
    {
      "cell_type": "markdown",
      "source": [
        "Ever so slightly less accurate than the included trapezoid rule function"
      ],
      "metadata": {
        "id": "IJ5FFWfWTX7A"
      }
    }
  ]
}