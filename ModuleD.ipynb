{
  "nbformat": 4,
  "nbformat_minor": 0,
  "metadata": {
    "colab": {
      "provenance": [],
      "authorship_tag": "ABX9TyN/N03V721e9V8poFRqUfdM",
      "include_colab_link": true
    },
    "kernelspec": {
      "name": "python3",
      "display_name": "Python 3"
    },
    "language_info": {
      "name": "python"
    }
  },
  "cells": [
    {
      "cell_type": "markdown",
      "metadata": {
        "id": "view-in-github",
        "colab_type": "text"
      },
      "source": [
        "<a href=\"https://colab.research.google.com/github/AleksLZCR/MAT-421/blob/main/ModuleD.ipynb\" target=\"_parent\"><img src=\"https://colab.research.google.com/assets/colab-badge.svg\" alt=\"Open In Colab\"/></a>"
      ]
    },
    {
      "cell_type": "markdown",
      "source": [
        "HW5 - Aleksandr Cooper\n",
        "\n",
        "\n"
      ],
      "metadata": {
        "id": "n0_CElapczDD"
      }
    },
    {
      "cell_type": "markdown",
      "source": [
        "1.1 Introduction\n",
        "\n",
        "Linear algebra is very important for solving modern day problems; specifically for data science and machine learning.\n",
        "\n",
        "While generally tedious to perform by hand, advances in programming languages make working with linear algebra much simpler. As an example, I will use Python to create a vector, a string of numbers used heavily in linear algebra to represent points in space."
      ],
      "metadata": {
        "id": "phe__lt5fMxy"
      }
    },
    {
      "cell_type": "code",
      "source": [
        "# A demonstration of using python for vector manipulation\n",
        "import numpy as np\n",
        "vector_row = np.array([[1, 10, 6, 0, -20, -3]])\n",
        "vector_column = np.array([[1], [2], [3], [4], [5]])\n",
        "\n",
        "# Print the shape of each array\n",
        "# The shape returns the number of elements in each dimension of the vector\n",
        "print(\"Shape of vector row   : \", vector_row.shape)\n",
        "print(\"Shape of vector column: \", vector_column.shape)\n",
        "\n",
        "# Calculating the cross product of two arrays\n",
        "v = np.array([[1, -9, 5]])\n",
        "w = np.array([[-8, 0, 8]])\n",
        "\n",
        "print(\"Cross Product of V and W: \" , np.cross(v, w))\n"
      ],
      "metadata": {
        "colab": {
          "base_uri": "https://localhost:8080/"
        },
        "id": "YaoZkvKdkWjI",
        "outputId": "2b4b5b8e-5492-442f-b805-a7d91c98b2d6"
      },
      "execution_count": 6,
      "outputs": [
        {
          "output_type": "stream",
          "name": "stdout",
          "text": [
            "Shape of vector row   :  (1, 6)\n",
            "Shape of vector column:  (5, 1)\n",
            "Cross Product of V and W:  [[-72 -48 -72]]\n"
          ]
        }
      ]
    },
    {
      "cell_type": "markdown",
      "source": [
        "Matrices and matrix operations can also be performed using python as demonstrated below"
      ],
      "metadata": {
        "id": "ERJo_Eu8ntT2"
      }
    },
    {
      "cell_type": "code",
      "source": [
        "# Finding the product of two matrices using python\n",
        "import numpy as np\n",
        "\n",
        "P = np.array([[9, 6], [6, 11], [2, 0]])\n",
        "Q = np.array([[1, 7, 6, 1], [-1, 8, -3, 5]])\n",
        "\n",
        "print(np.dot(P, Q))\n"
      ],
      "metadata": {
        "colab": {
          "base_uri": "https://localhost:8080/"
        },
        "id": "C_0gtj72nyv5",
        "outputId": "7c6758c9-5279-40b1-acd3-9d473fa77765"
      },
      "execution_count": 16,
      "outputs": [
        {
          "output_type": "stream",
          "name": "stdout",
          "text": [
            "[[  3 111  36  39]\n",
            " [ -5 130   3  61]\n",
            " [  2  14  12   2]]\n"
          ]
        }
      ]
    },
    {
      "cell_type": "markdown",
      "source": [
        "1.2 Elements of Linear Algebra\n",
        "\n",
        "Linear Combination\n",
        "\n",
        "*   A new vector constructed from a subset by multiplying each vector by a constant and adding the results\n",
        "\n",
        "Linear Subspace\n",
        "*   A result of linear combination\n",
        "*   A subset U ⊆ V that is closed under vector addition and scalar multiplication\n",
        "*   Satisfies: for all u1, u2 ∈ U and α ∈ R, u1 + u2 ∈ U, and\n",
        "α u1 ∈ U.\n",
        "\n"
      ],
      "metadata": {
        "id": "zGD5RNVQfOvC"
      }
    },
    {
      "cell_type": "code",
      "source": [
        "# Example of a linear combination in python\n",
        "\n",
        "v = np.array([[9, 5, 5]])\n",
        "w = np.array([[8, 2, -1]])\n",
        "u = np.array([[-3, -2, 0]])\n",
        "x = 3*v-2*w+4*u; print(x)"
      ],
      "metadata": {
        "colab": {
          "base_uri": "https://localhost:8080/"
        },
        "id": "myDdL_RYT4u4",
        "outputId": "352d270f-ed56-43ea-d54f-0ee94e99f35c"
      },
      "execution_count": 4,
      "outputs": [
        {
          "output_type": "stream",
          "name": "stdout",
          "text": [
            "[[-1  3 17]]\n"
          ]
        }
      ]
    },
    {
      "cell_type": "markdown",
      "source": [
        "Span\n",
        "*   Span is a set of all linear combinations\n",
        "*   A span is a linear subspace\n",
        "\n",
        "Column Space\n",
        "*   If A is a matrix, the column space of A is the span of the columns of A\n",
        "\n",
        "Linear Independence\n",
        "*   A set is called linearly independent if no object in the set can be written as a linear combination of the other objects in the set.\n",
        "*   If the determinant of a matrix is not zero, the vectors are linearly independent\n",
        "*   This too can be performed in python"
      ],
      "metadata": {
        "id": "vzKHDWxFUT1B"
      }
    },
    {
      "cell_type": "code",
      "source": [
        "# Proving linear independence in python\n",
        "\n",
        "A=np.array([[9, -9, 0], [4, 1, 7], [6, -1, 12]])\n",
        "print(np.linalg.det(A)) # Non zero determinant, vectors are linearly independent\n",
        "\n",
        "B=np.array([[0, 0, 0], [4, 1, 1], [0, -2, 0]])\n",
        "print(np.linalg.det(B)) # Zero determinant, vectors are linearly dependent\n"
      ],
      "metadata": {
        "colab": {
          "base_uri": "https://localhost:8080/"
        },
        "id": "LwAzWgLyVK-0",
        "outputId": "6b9ba07b-6284-4b7c-ec8e-c65c1f7027f4"
      },
      "execution_count": 15,
      "outputs": [
        {
          "output_type": "stream",
          "name": "stdout",
          "text": [
            "225.0\n",
            "0.0\n"
          ]
        }
      ]
    },
    {
      "cell_type": "markdown",
      "source": [
        "Dimension Theorem\n",
        "*    If U is a linear subspace of V, any basis of U will have the same number of elements. Additionally, all bases of U will have the same length and the same number of elements. The number of elements is denoted as the dimension"
      ],
      "metadata": {
        "id": "tK5ndiARYO37"
      }
    },
    {
      "cell_type": "markdown",
      "source": [
        "Orthonormal Bases\n",
        "* A list of vectors is orthonormal if the vectors are pairwise orthogonal and each has norm 1.\n",
        "\n",
        "* Orthogonality can be determined in Python"
      ],
      "metadata": {
        "id": "v0LS4s12YD7Y"
      }
    },
    {
      "cell_type": "code",
      "source": [
        "# If the angle between the two vectors is pi/2, the vectors are orthogonal\n",
        "from numpy import arccos, dot\n",
        "from numpy.linalg import norm\n",
        "\n",
        "v = np.array([[10, 9, 3]])\n",
        "w = np.array([[2, 5, 12]])\n",
        "theta = arccos(dot(v, w.T)/(norm(v)*norm(w)))\n",
        "print(theta) # These vectors are not orthogonal"
      ],
      "metadata": {
        "colab": {
          "base_uri": "https://localhost:8080/"
        },
        "id": "ePKF-IYCf8OI",
        "outputId": "1592d685-879c-4557-8e3c-ea935fc6e65a"
      },
      "execution_count": 21,
      "outputs": [
        {
          "output_type": "stream",
          "name": "stdout",
          "text": [
            "[[0.97992471]]\n"
          ]
        }
      ]
    },
    {
      "cell_type": "markdown",
      "source": [
        "Best Approximation Theorem\n",
        "* Let U ⊆ V be a linear subspace with orthonormal basis and v ∊ V. For any u ∊ U: ||v-Pu v|| <= ||v-u||\n",
        "\n",
        "Pythagorean Theorem\n",
        "* Let u, v ∈ V be orthogonal. Then ∥u+v∥^2 = ∥u∥^2 + ∥v∥^2\n",
        "\n",
        "Eigenvalues and Eigenvectors\n",
        "* Given the equation: Ax=λx\n",
        "* A is an n×n matrix, x is an n×1 column vector (X≠0), and λ is some scalar. Any λ that satisfies the above equation is known as an eigenvalue of the matrix A\n",
        "* The associated vector x is called an eigenvector corresponding to λ\n",
        "* Put simply, an eigenvalue expresses the degree of change undergone by a vector transformation\n"
      ],
      "metadata": {
        "id": "SnyogdXFhWf1"
      }
    },
    {
      "cell_type": "code",
      "source": [
        "# A demonstration of finding eigenvalues and eigenvectors in Python\n",
        "\n",
        "import numpy as np\n",
        "from numpy.linalg import eig\n",
        "\n",
        "a = np.array([[2, 2, 4], [1, 3, 5], [9, 7, 7]])\n",
        "w,v=eig(a)\n",
        "print('E-value:', w)\n",
        "print('E-vector', v)"
      ],
      "metadata": {
        "colab": {
          "base_uri": "https://localhost:8080/"
        },
        "id": "Xu4BYRqMmH84",
        "outputId": "1312764c-04fc-4d9c-844c-ea44c790729b"
      },
      "execution_count": 25,
      "outputs": [
        {
          "output_type": "stream",
          "name": "stdout",
          "text": [
            "E-value: [14.10750914  0.7843679  -2.89187704]\n",
            "E-vector [[-0.3464717  -0.46079863 -0.37313646]\n",
            " [-0.41081055  0.84187903 -0.56267831]\n",
            " [-0.84332204 -0.28089912  0.73767357]]\n"
          ]
        }
      ]
    },
    {
      "cell_type": "markdown",
      "source": [
        "1.3 Linear Regression"
      ],
      "metadata": {
        "id": "7WTC09BIfS_y"
      }
    },
    {
      "cell_type": "markdown",
      "source": [
        "QR Decomposition\n",
        "* An iterative method to find all the eigenvalues of a matrix"
      ],
      "metadata": {
        "id": "C-FeBjXntTxL"
      }
    },
    {
      "cell_type": "code",
      "source": [
        "# Using QR Decomposition to find eigenvalues\n",
        "\n",
        "import numpy as np\n",
        "from numpy.linalg import qr\n",
        "\n",
        "a = np.array([[0, 2, -1],\n",
        "              [2, 3, 6],\n",
        "              [7, 9, 1]])\n",
        "p = [1, 5, 10, 20]\n",
        "\n",
        "# Eigenvalues will eventually converge\n",
        "for i in range(20):\n",
        "    q, r = qr(a)\n",
        "    a = np.dot(r, q)\n",
        "    if i+1 in p:\n",
        "        print(f'Iteration {i+1}:')\n",
        "        print(a)\n"
      ],
      "metadata": {
        "colab": {
          "base_uri": "https://localhost:8080/"
        },
        "id": "GanT9aO9tsyy",
        "outputId": "d4c07fab-f6c3-49f4-e5a4-3ad0a14ffe1b"
      },
      "execution_count": 27,
      "outputs": [
        {
          "output_type": "stream",
          "name": "stdout",
          "text": [
            "Iteration 1:\n",
            "[[ 5.11320755 -8.82470554  6.75434602]\n",
            " [-0.68536473  0.3890549  -1.8882416 ]\n",
            " [ 5.3683653   0.30952742 -1.50226244]]\n",
            "Iteration 5:\n",
            "[[ 9.77534558 -0.23453205 -6.90938226]\n",
            " [-0.34150197 -3.54250879 -4.89728462]\n",
            " [ 0.00980714  0.11404011 -2.23283679]]\n",
            "Iteration 10:\n",
            "[[ 9.77737748e+00  7.78116198e-01  6.74316833e+00]\n",
            " [ 1.30478547e-03 -3.05030254e+00  5.15603818e+00]\n",
            " [ 1.23876211e-05 -3.30283971e-02 -2.72707494e+00]]\n",
            "Iteration 20:\n",
            "[[ 9.77746172e+00  1.60712839e+00  6.59529066e+00]\n",
            " [ 3.98729592e-09 -2.41506935e+00  5.11635534e+00]\n",
            " [ 1.00990504e-10 -7.20239286e-02 -3.36239237e+00]]\n"
          ]
        }
      ]
    },
    {
      "cell_type": "markdown",
      "source": [
        "Least Squares Regression\n",
        "* Another tactic\n",
        "* The ultimate goal is to determine an estimation function that describes points of data\n",
        "* The goal of least squares regression is to find the parameters of the estimation function that minimize the total squared error"
      ],
      "metadata": {
        "id": "4dXHpuXFuRJf"
      }
    },
    {
      "cell_type": "code",
      "source": [
        "# An example of LSR using python\n",
        "\n",
        "import numpy as np\n",
        "from scipy import optimize\n",
        "import matplotlib.pyplot as plt\n",
        "\n",
        "# generate x and y\n",
        "x = np.linspace(0, 1, 101)\n",
        "y = 1 + x + x * np.random.random(len(x))\n",
        "\n",
        "# assemble matrix A\n",
        "A = np.vstack([x, np.ones(len(x))]).T\n",
        "\n",
        "# turn y into a column vector\n",
        "y = y[:, np.newaxis]\n",
        "\n",
        "# Using pseudoinverse\n",
        "pinv = np.linalg.pinv(A)\n",
        "alpha = pinv.dot(y)\n",
        "print(alpha)\n",
        "\n",
        "# plot results\n",
        "plt.figure(figsize = (10,8))\n",
        "plt.plot(x, y, 'b.')\n",
        "plt.plot(x, alpha[0]*x + alpha[1], 'r')\n",
        "plt.xlabel('x'); plt.ylabel('y')\n",
        "plt.show()"
      ],
      "metadata": {
        "colab": {
          "base_uri": "https://localhost:8080/",
          "height": 731
        },
        "id": "SA8XA9F7uuev",
        "outputId": "4cb96bd2-032c-48e6-9ec0-4f299d3e4c8f"
      },
      "execution_count": 29,
      "outputs": [
        {
          "output_type": "stream",
          "name": "stdout",
          "text": [
            "[[1.63886507]\n",
            " [0.9616729 ]]\n"
          ]
        },
        {
          "output_type": "display_data",
          "data": {
            "text/plain": [
              "<Figure size 1000x800 with 1 Axes>"
            ],
            "image/png": "[encoded data removed]"
          },
          "metadata": {}
        }
      ]
    },
    {
      "cell_type": "markdown",
      "source": [
        "As we can see, the resulting estimation function does a good job at representing the datapoints"
      ],
      "metadata": {
        "id": "emPwpSUDvJIf"
      }
    }
  ]
}