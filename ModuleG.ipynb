{
  "nbformat": 4,
  "nbformat_minor": 0,
  "metadata": {
    "colab": {
      "provenance": [],
      "authorship_tag": "ABX9TyN+2a11Rq0wpLLraRBqjLxx",
      "include_colab_link": true
    },
    "kernelspec": {
      "name": "python3",
      "display_name": "Python 3"
    },
    "language_info": {
      "name": "python"
    }
  },
  "cells": [
    {
      "cell_type": "markdown",
      "metadata": {
        "id": "view-in-github",
        "colab_type": "text"
      },
      "source": [
        "<a href=\"https://colab.research.google.com/github/AleksLZCR/MAT-421/blob/main/ModuleG.ipynb\" target=\"_parent\"><img src=\"https://colab.research.google.com/assets/colab-badge.svg\" alt=\"Open In Colab\"/></a>"
      ]
    },
    {
      "cell_type": "markdown",
      "source": [
        "HW8 - Aleksandr Cooper\n",
        "\n",
        "21.1 - Numerical Integration Problem Statement\n",
        "*   When given a function f(x) with a desire to approximate its integral over the closed interval [a, b], we must assume the interval exists as a set of discrete points numbering n+1\n",
        "*   This collection of discrete points is denoted as x\n",
        "*   An interval [xi, xi+1] is considered a subinterval\n",
        "*   Using direct integration of the form ∫f(x)dx can be time consuming or expensive to compute. In such cases, an approximation is desired\n",
        "*   Approximations use a finite number of shapes whose area is simple to calculate. The area is then summed to give a reasonably accurate approximation of the integral.\n"
      ],
      "metadata": {
        "id": "CqTS_65PQ-yT"
      }
    },
    {
      "cell_type": "markdown",
      "source": [
        "21.2 - Riemanns Integral\n",
        "*   A simple method of integral approximation\n",
        "*   It involves summing the areas of rectangles that are defined for each subinterval\n",
        "*   ∫f(x)dx ≈ ∑h*f(xi) where h is the width of the rectangle (xi+1 - xi) and f(xi) is the height, or the value of the function at xi.\n",
        "*   The total error of the reimann integral is defined as O(h) over an arbitrary interval.\n",
        "*   This shows how decreasing the width of the rectangles will yield less error and can therefore be more accurate.\n",
        "\n",
        "Midpoint Rule: The height of the rectangle is the function value at the midpoint between xi and xi+1\n",
        "*   ∫f(x)dx ≈ ∑h*f(yi) where yi = [xi+1 + xi] / 2\n",
        "\n",
        "\n",
        "An example of comparing left, right, and midpoint rule reimann integrals is shown below\n"
      ],
      "metadata": {
        "id": "vCpcFlXBS_A4"
      }
    },
    {
      "cell_type": "code",
      "execution_count": 7,
      "metadata": {
        "colab": {
          "base_uri": "https://localhost:8080/"
        },
        "id": "eINbztckP5oe",
        "outputId": "25019d8a-5173-4148-bce2-a6986568db8c"
      },
      "outputs": [
        {
          "output_type": "stream",
          "name": "stdout",
          "text": [
            "Left Reimann Sum: 1.9835235375094546\n",
            "Left Reimann Err: 0.01647646249054535\n",
            "\n",
            "Right Reimann Sum: 1.9835235375094546\n",
            "Right Reimann Err: 0.01647646249054535\n",
            "\n",
            "Mid Reimann Sum: 2.0082484079079745\n",
            "Mid Reimann Err: -0.008248407907974542\n",
            "\n",
            "\n",
            "Increasing n to 30\n",
            "\n",
            "\n",
            "Left Reimann Sum: 1.9980436909705552\n",
            "Left Reimann Err: 0.0019563090294447694\n",
            "\n",
            "Right Reimann Sum: 1.9980436909705552\n",
            "Right Reimann Err: 0.0019563090294447694\n",
            "\n",
            "Mid Reimann Sum: 2.0009782980266424\n",
            "Mid Reimann Err: -0.000978298026642399\n",
            "\n"
          ]
        }
      ],
      "source": [
        "# An example using python of calculating an approximation of the integral of sinx on the interval [0, pi]\n",
        "# Values for left, right, and midpoint reimann sums are shown\n",
        "# As well as how the accuracy is improved with a larger number of thinner rectangles\n",
        "import numpy as np\n",
        "\n",
        "a = 0                     # Interval Start\n",
        "b = np.pi                 # Interval End\n",
        "n = 11                    # Grid points\n",
        "h = (b - a) / (n - 1)     # Rectangle Width\n",
        "x = np.linspace(a, b, n)  # Discrete Coordinate\n",
        "f = np.sin(x)             # Function Value\n",
        "\n",
        "I_riemannL = h * sum(f[:n-1])   # Left Reimann Value\n",
        "err_riemannL = 2 - I_riemannL   # Left Reimann Error\n",
        "\n",
        "I_riemannR = h * sum(f[1::])    # Right Reimann Value\n",
        "err_riemannR = 2 - I_riemannR   # Right Reimann Error\n",
        "\n",
        "I_mid = h * sum(np.sin((x[:n-1] + x[1:])/2)) # Midpoint Value\n",
        "err_mid = 2 - I_mid                          # Midpoint Error\n",
        "\n",
        "print(\"Left Reimann Sum: \" + str(I_riemannL))\n",
        "print(\"Left Reimann Err: \" + str(err_riemannL))\n",
        "print()\n",
        "\n",
        "print(\"Right Reimann Sum: \" + str(I_riemannR))\n",
        "print(\"Right Reimann Err: \" + str(err_riemannR))\n",
        "print()\n",
        "\n",
        "print(\"Mid Reimann Sum: \" + str(I_mid))\n",
        "print(\"Mid Reimann Err: \" + str(err_mid))\n",
        "print()\n",
        "print()\n",
        "\n",
        "n = 30\n",
        "h = (b - a) / (n - 1)     # Rectangle Width\n",
        "x = np.linspace(a, b, n)  # Discrete Coordinate\n",
        "f = np.sin(x)             # Function Value\n",
        "I_riemannL = h * sum(f[:n-1])   # Left Reimann Value\n",
        "err_riemannL = 2 - I_riemannL   # Left Reimann Error\n",
        "\n",
        "I_riemannR = h * sum(f[1::])    # Right Reimann Value\n",
        "err_riemannR = 2 - I_riemannR   # Right Reimann Error\n",
        "\n",
        "I_mid = h * sum(np.sin((x[:n-1] + x[1:])/2)) # Midpoint Value\n",
        "err_mid = 2 - I_mid                          # Midpoint Error\n",
        "print(\"Increasing n to \" + str(n))\n",
        "print()\n",
        "print()\n",
        "\n",
        "print(\"Left Reimann Sum: \" + str(I_riemannL))\n",
        "print(\"Left Reimann Err: \" + str(err_riemannL))\n",
        "print()\n",
        "\n",
        "print(\"Right Reimann Sum: \" + str(I_riemannR))\n",
        "print(\"Right Reimann Err: \" + str(err_riemannR))\n",
        "print()\n",
        "\n",
        "print(\"Mid Reimann Sum: \" + str(I_mid))\n",
        "print(\"Mid Reimann Err: \" + str(err_mid))\n",
        "print()\n"
      ]
    },
    {
      "cell_type": "markdown",
      "source": [
        "Notice how the errors decrease when increasing the number of rectangles\n",
        "\n",
        "21.3 - Trapezoid Rule\n",
        "\n",
        "*   A Trapezoid is fitted into each subinterval\n",
        "*   The areas of these Trapezoids are summed to approximate the total integral\n",
        "*   Each trapezoid has corners at (xi, 0), (xi+1, 0), (xi, f(xi)), and (xi+1, f(xi+1))\n",
        "*   ∫f(x)dx ≈ ∑ h * [(f(xi)+f(xi+1)) / 2]\n",
        "\n",
        "Below is the example from earlier, but with approximations calculated via the trapezoid rule added in for comparison:"
      ],
      "metadata": {
        "id": "Z3QiEK5eXAzg"
      }
    },
    {
      "cell_type": "code",
      "source": [
        "# An example using python of calculating an approximation of the integral of sinx on the interval [0, pi]\n",
        "# Values for left, right, trapezoid, and midpoint reimann sums are shown\n",
        "# As well as how the accuracy is improved with a larger number of thinner rectangles\n",
        "import numpy as np\n",
        "\n",
        "a = 0                     # Interval Start\n",
        "b = np.pi                 # Interval End\n",
        "n = 11                    # Grid points\n",
        "h = (b - a) / (n - 1)     # Rectangle Width\n",
        "x = np.linspace(a, b, n)  # Discrete Coordinate\n",
        "f = np.sin(x)             # Function Value\n",
        "\n",
        "I_riemannL = h * sum(f[:n-1])   # Left Reimann Value\n",
        "err_riemannL = 2 - I_riemannL   # Left Reimann Error\n",
        "\n",
        "I_riemannR = h * sum(f[1::])    # Right Reimann Value\n",
        "err_riemannR = 2 - I_riemannR   # Right Reimann Error\n",
        "\n",
        "I_mid = h * sum(np.sin((x[:n-1] + x[1:])/2)) # Midpoint Value\n",
        "err_mid = 2 - I_mid                          # Midpoint Error\n",
        "\n",
        "I_trap = (h/2)*(f[0] + 2 * sum(f[1:n-1]) + f[n-1]) # Trapezoid Value\n",
        "err_trap = 2 - I_trap                              # Trapezoid Error\n",
        "\n",
        "print(\"Left Reimann Sum: \" + str(I_riemannL))\n",
        "print(\"Left Reimann Err: \" + str(err_riemannL))\n",
        "print()\n",
        "\n",
        "print(\"Right Reimann Sum: \" + str(I_riemannR))\n",
        "print(\"Right Reimann Err: \" + str(err_riemannR))\n",
        "print()\n",
        "\n",
        "print(\"Trapezoid Sum: \" + str(I_trap))\n",
        "print(\"Trapezoid Err: \" + str(err_trap))\n",
        "print()\n",
        "\n",
        "print(\"Mid Reimann Sum: \" + str(I_mid))\n",
        "print(\"Mid Reimann Err: \" + str(err_mid))\n",
        "print()\n",
        "print()\n",
        "\n",
        "n = 30\n",
        "h = (b - a) / (n - 1)     # Rectangle Width\n",
        "x = np.linspace(a, b, n)  # Discrete Coordinate\n",
        "f = np.sin(x)             # Function Value\n",
        "I_riemannL = h * sum(f[:n-1])   # Left Reimann Value\n",
        "err_riemannL = 2 - I_riemannL   # Left Reimann Error\n",
        "\n",
        "I_riemannR = h * sum(f[1::])    # Right Reimann Value\n",
        "err_riemannR = 2 - I_riemannR   # Right Reimann Error\n",
        "\n",
        "I_mid = h * sum(np.sin((x[:n-1] + x[1:])/2)) # Midpoint Value\n",
        "err_mid = 2 - I_mid                          # Midpoint Error\n",
        "\n",
        "I_trap = (h/2)*(f[0] + 2 * sum(f[1:n-1]) + f[n-1]) # Trapezoid Value\n",
        "err_trap = 2 - I_trap                              # Trapezoid Error\n",
        "\n",
        "\n",
        "print(\"Increasing n to \" + str(n))\n",
        "print()\n",
        "print()\n",
        "\n",
        "print(\"Left Reimann Sum: \" + str(I_riemannL))\n",
        "print(\"Left Reimann Err: \" + str(err_riemannL))\n",
        "print()\n",
        "\n",
        "print(\"Right Reimann Sum: \" + str(I_riemannR))\n",
        "print(\"Right Reimann Err: \" + str(err_riemannR))\n",
        "print()\n",
        "\n",
        "print(\"Trapezoid Sum: \" + str(I_trap))\n",
        "print(\"Trapezoid Err: \" + str(err_trap))\n",
        "print()\n",
        "\n",
        "print(\"Mid Reimann Sum: \" + str(I_mid))\n",
        "print(\"Mid Reimann Err: \" + str(err_mid))\n",
        "print()"
      ],
      "metadata": {
        "colab": {
          "base_uri": "https://localhost:8080/"
        },
        "id": "83mP0HbEaR8k",
        "outputId": "ec346134-01b5-414b-a581-48d6a2e0fd96"
      },
      "execution_count": 9,
      "outputs": [
        {
          "output_type": "stream",
          "name": "stdout",
          "text": [
            "Left Reimann Sum: 1.9835235375094546\n",
            "Left Reimann Err: 0.01647646249054535\n",
            "\n",
            "Right Reimann Sum: 1.9835235375094546\n",
            "Right Reimann Err: 0.01647646249054535\n",
            "\n",
            "Trapezoid Sum: 1.9835235375094546\n",
            "Trapezoid Err: 0.01647646249054535\n",
            "\n",
            "Mid Reimann Sum: 2.0082484079079745\n",
            "Mid Reimann Err: -0.008248407907974542\n",
            "\n",
            "\n",
            "Increasing n to 30\n",
            "\n",
            "\n",
            "Left Reimann Sum: 1.9980436909705552\n",
            "Left Reimann Err: 0.0019563090294447694\n",
            "\n",
            "Right Reimann Sum: 1.9980436909705552\n",
            "Right Reimann Err: 0.0019563090294447694\n",
            "\n",
            "Trapezoid Sum: 1.9980436909705552\n",
            "Trapezoid Err: 0.0019563090294447694\n",
            "\n",
            "Mid Reimann Sum: 2.0009782980266424\n",
            "Mid Reimann Err: -0.000978298026642399\n",
            "\n"
          ]
        }
      ]
    },
    {
      "cell_type": "markdown",
      "source": [
        "As we can see in this example, the trapezoid sum appears to be equivalent in accuracy to the left and right reimann sums, and slightly worse than the midpoint sum."
      ],
      "metadata": {
        "id": "O0PYIfQGa89d"
      }
    }
  ]
}