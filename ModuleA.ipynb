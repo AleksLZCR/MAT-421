{
  "nbformat": 4,
  "nbformat_minor": 0,
  "metadata": {
    "colab": {
      "provenance": [],
      "authorship_tag": "ABX9TyP08SZ9fo6pQvu5J7rZDSyj",
      "include_colab_link": true
    },
    "kernelspec": {
      "name": "python3",
      "display_name": "Python 3"
    },
    "language_info": {
      "name": "python"
    }
  },
  "cells": [
    {
      "cell_type": "markdown",
      "metadata": {
        "id": "view-in-github",
        "colab_type": "text"
      },
      "source": [
        "<a href=\"https://colab.research.google.com/github/AleksLZCR/MAT-421/blob/main/ModuleA.ipynb\" target=\"_parent\"><img src=\"https://colab.research.google.com/assets/colab-badge.svg\" alt=\"Open In Colab\"/></a>"
      ]
    },
    {
      "cell_type": "markdown",
      "source": [
        "HW1 - Aleksandr Cooper"
      ],
      "metadata": {
        "id": "_UDcR9h5fVog"
      }
    },
    {
      "cell_type": "markdown",
      "source": [
        "9.1 Base N and Binary"
      ],
      "metadata": {
        "id": "lj6WdFmoTQKb"
      }
    },
    {
      "cell_type": "markdown",
      "source": [
        "\n",
        "\n",
        "*   People generally represent numbers using a base ten system which uses digits 0 - 9 to represent how many powers of 10 exist\n",
        "*   Computers however must be able to represent numbers using electricity where there can either be voltage, or no voltage. Thus, binary, a base two system, is used for computers to represent numbers.\n",
        "*   There must exist ways to convert between decimal and binary systems to satisfy both methods of representing numbers\n",
        "\n"
      ],
      "metadata": {
        "id": "An2ozzAGTjZX"
      }
    },
    {
      "cell_type": "markdown",
      "source": [
        "Base 10 Decomposition:"
      ],
      "metadata": {
        "id": "yHaincpsVAFs"
      }
    },
    {
      "cell_type": "code",
      "source": [
        "# 77 (Base 10)\n",
        "77 == (7*10**1) + (7*10**0)"
      ],
      "metadata": {
        "colab": {
          "base_uri": "https://localhost:8080/"
        },
        "id": "xOsTJ1jZTcV4",
        "outputId": "7c34a7ac-8523-49b5-8754-08baaaf44c93"
      },
      "execution_count": 7,
      "outputs": [
        {
          "output_type": "execute_result",
          "data": {
            "text/plain": [
              "True"
            ]
          },
          "metadata": {},
          "execution_count": 7
        }
      ]
    },
    {
      "cell_type": "markdown",
      "source": [
        "Base 16 is another commonly used method of representing numbers\n",
        "\n",
        "Base 16 Decomposition:"
      ],
      "metadata": {
        "id": "ha6g7mwBVCsP"
      }
    },
    {
      "cell_type": "code",
      "source": [
        "# 16 (Base 16) = 22 (Base 10)\n",
        "22 == 1*16**1 + 6*16**0"
      ],
      "metadata": {
        "colab": {
          "base_uri": "https://localhost:8080/"
        },
        "id": "6MUxpmW-VFJ6",
        "outputId": "22930b3d-82d7-4df4-a16e-4e191802723d"
      },
      "execution_count": 8,
      "outputs": [
        {
          "output_type": "execute_result",
          "data": {
            "text/plain": [
              "True"
            ]
          },
          "metadata": {},
          "execution_count": 8
        }
      ]
    },
    {
      "cell_type": "markdown",
      "source": [
        "Binary to Decimal Conversion:"
      ],
      "metadata": {
        "id": "SV8zrkCCVmWm"
      }
    },
    {
      "cell_type": "code",
      "source": [
        "# 1011 (Base 2) = 11 (Base 10)\n",
        "1*2**3 + 0*2**2 + 1*2**1 + 1*2**0 == 1*10**1 + 1*10**0"
      ],
      "metadata": {
        "colab": {
          "base_uri": "https://localhost:8080/"
        },
        "id": "E7InHmbvVpQD",
        "outputId": "9a03ef14-59df-49b6-dba3-5ab45e65a910"
      },
      "execution_count": 9,
      "outputs": [
        {
          "output_type": "execute_result",
          "data": {
            "text/plain": [
              "True"
            ]
          },
          "metadata": {},
          "execution_count": 9
        }
      ]
    },
    {
      "cell_type": "markdown",
      "source": [
        "Binary, and any other Base N numerical representation can be used to perform the same arithmetic operations as the decimal system:"
      ],
      "metadata": {
        "id": "Ktm8VfIOV_lw"
      }
    },
    {
      "cell_type": "code",
      "source": [
        "# Binary Addition:\n",
        "# 7 + 6 = 14\n",
        "# 0111 + 0110 = 1110\n",
        "14 == 1*2**3 + 1*2**2 + 1*2**1 + 0*2**0"
      ],
      "metadata": {
        "colab": {
          "base_uri": "https://localhost:8080/"
        },
        "id": "cxIx6V-2WHEX",
        "outputId": "f87d32a5-c8c8-4bb6-c737-affe7922242f"
      },
      "execution_count": 10,
      "outputs": [
        {
          "output_type": "execute_result",
          "data": {
            "text/plain": [
              "True"
            ]
          },
          "metadata": {},
          "execution_count": 10
        }
      ]
    },
    {
      "cell_type": "code",
      "source": [
        "# Binary Multiplication\n",
        "# 6 * 5 = 30\n",
        "# 0110 * 0101 = 0001_1110\n",
        "30 == 1*2**4 + 1*2**3 + 1*2**2 + 1*2**1 + 0*2**0"
      ],
      "metadata": {
        "colab": {
          "base_uri": "https://localhost:8080/"
        },
        "id": "4TlqVZEDWjal",
        "outputId": "fb76e767-cd29-4dec-e505-9b480b9bc65a"
      },
      "execution_count": 11,
      "outputs": [
        {
          "output_type": "execute_result",
          "data": {
            "text/plain": [
              "True"
            ]
          },
          "metadata": {},
          "execution_count": 11
        }
      ]
    },
    {
      "cell_type": "markdown",
      "source": [
        "9.2 Floating Point Numbers"
      ],
      "metadata": {
        "id": "HkFrUaYgTT5j"
      }
    },
    {
      "cell_type": "markdown",
      "source": [
        "* A computer is only going to have so much room to store digits, 64 or 32 for most applications.\n",
        "* These bits can be allocated to represent different aspects of a number such as its sign, magnitude, and decimal precision\n",
        "* The IEE754 standard allocates 64 bits:\n",
        "  * 1 to the sign indicator (1 indicates a negative number, 0 for positive)\n",
        "  * 11 bits for the exponent\n",
        "  * 52 bits for the fraction\n",
        "\n",
        "* These floating point decimal numbers are represented with the following equation:\n",
        "\n",
        "  n = [((-1)^s) * (2^(e - 1023)) * (1 + f)]\n",
        "\n",
        "\n"
      ],
      "metadata": {
        "id": "yqx8O4tQafZD"
      }
    },
    {
      "cell_type": "code",
      "source": [
        "# IEE754 to Decimal Conversion\n",
        "# 1 10000000010 1000000000000000000000000000000000000000000000000000 = -12\n",
        "-12 == (-1)**1 * (2**((1*2**10 + 1*2**1) - 1023)) * (1 + 1*2**-1)"
      ],
      "metadata": {
        "colab": {
          "base_uri": "https://localhost:8080/"
        },
        "id": "ZlaStLUgbylx",
        "outputId": "7c944209-891c-4098-eaa4-e18e26928d32"
      },
      "execution_count": 12,
      "outputs": [
        {
          "output_type": "execute_result",
          "data": {
            "text/plain": [
              "True"
            ]
          },
          "metadata": {},
          "execution_count": 12
        }
      ]
    },
    {
      "cell_type": "code",
      "source": [
        "# Information about floating point values in Python\n",
        "import sys\n",
        "sys.float_info"
      ],
      "metadata": {
        "colab": {
          "base_uri": "https://localhost:8080/"
        },
        "id": "_WhL8N8Nc0Qi",
        "outputId": "5b66f372-9e82-4e1d-e35d-66f25bdef4e9"
      },
      "execution_count": 13,
      "outputs": [
        {
          "output_type": "execute_result",
          "data": {
            "text/plain": [
              "sys.float_info(max=1.7976931348623157e+308, max_exp=1024, max_10_exp=308, min=2.2250738585072014e-308, min_exp=-1021, min_10_exp=-307, dig=15, mant_dig=53, epsilon=2.220446049250313e-16, radix=2, rounds=1)"
            ]
          },
          "metadata": {},
          "execution_count": 13
        }
      ]
    },
    {
      "cell_type": "markdown",
      "source": [
        "Unfortunately, a limited number of bits means a limited number of available representations. There ends up being gaps between numbers that increases in size as the number being represented grows. This is due to more of the bits being used for the exponent which leaves less for the fraction."
      ],
      "metadata": {
        "id": "HKAJBqwZc_t1"
      }
    },
    {
      "cell_type": "code",
      "source": [
        "# Gap between numbers at 1*10**9\n",
        "import numpy as np\n",
        "np.spacing(1e9)"
      ],
      "metadata": {
        "colab": {
          "base_uri": "https://localhost:8080/"
        },
        "id": "Lay76JfYdWsj",
        "outputId": "e53f39cf-349b-484c-ba3a-9a6104c651e8"
      },
      "execution_count": 14,
      "outputs": [
        {
          "output_type": "execute_result",
          "data": {
            "text/plain": [
              "1.1920928955078125e-07"
            ]
          },
          "metadata": {},
          "execution_count": 14
        }
      ]
    },
    {
      "cell_type": "markdown",
      "source": [
        "Adding less than half of a gap to a number will result in it remaining the same"
      ],
      "metadata": {
        "id": "DXC1iQiXdipH"
      }
    },
    {
      "cell_type": "code",
      "source": [
        "1e9 == (1e9 + np.spacing(1e9) / 2.1)"
      ],
      "metadata": {
        "colab": {
          "base_uri": "https://localhost:8080/"
        },
        "id": "YCYorRxZdl4M",
        "outputId": "7b57f480-9ad5-4615-b222-a1919c04f3e4"
      },
      "execution_count": 16,
      "outputs": [
        {
          "output_type": "execute_result",
          "data": {
            "text/plain": [
              "True"
            ]
          },
          "metadata": {},
          "execution_count": 16
        }
      ]
    },
    {
      "cell_type": "markdown",
      "source": [
        "If an operation would result in a number larger than the available bits can represent, the outcome, in python, becomes 'inf'\n",
        "\n",
        "Numbers smaller than the limit will return 0.0"
      ],
      "metadata": {
        "id": "4cHelgivePKK"
      }
    },
    {
      "cell_type": "code",
      "source": [
        "# Overflowing\n",
        "big_number = sys.float_info.max + sys.float_info.max\n",
        "print(big_number)"
      ],
      "metadata": {
        "colab": {
          "base_uri": "https://localhost:8080/"
        },
        "id": "f4z_ZEXjeiXa",
        "outputId": "8ca5a194-235e-4aa2-f57a-47e03ea4f569"
      },
      "execution_count": 18,
      "outputs": [
        {
          "output_type": "stream",
          "name": "stdout",
          "text": [
            "inf\n"
          ]
        }
      ]
    },
    {
      "cell_type": "code",
      "source": [
        "# Underflowing\n",
        "small_number = 3**-1075\n",
        "print(small_number)"
      ],
      "metadata": {
        "colab": {
          "base_uri": "https://localhost:8080/"
        },
        "id": "9fAS6r2neznk",
        "outputId": "c97af32e-85d9-4191-9617-fc297d780c0e"
      },
      "execution_count": 20,
      "outputs": [
        {
          "output_type": "stream",
          "name": "stdout",
          "text": [
            "0.0\n"
          ]
        }
      ]
    },
    {
      "cell_type": "markdown",
      "source": [
        "9.3 Round-Off Errors"
      ],
      "metadata": {
        "id": "ULVbNEXDTWZY"
      }
    },
    {
      "cell_type": "markdown",
      "source": [
        "* Since floating point numbers cannot be stored with exact precision, operations involving them will deviate to some extent from the actual value. This is what is defined as round-off error.\n",
        "* Some round off error is due to representation error. Infinite numbers, of course, cannot be represented with a finite number of bits; π and e for example.\n",
        "* Floating point arithmetic is also often responsible for round off error:"
      ],
      "metadata": {
        "id": "M_q0vuhPfhgX"
      }
    },
    {
      "cell_type": "code",
      "source": [
        "print(4.9 - 4.845)\n",
        "4.9 - 4.845 == 0.055\n"
      ],
      "metadata": {
        "colab": {
          "base_uri": "https://localhost:8080/"
        },
        "id": "Qt-Prqu6go0H",
        "outputId": "d0c4c28f-79c0-4b35-8012-67de35faf934"
      },
      "execution_count": 23,
      "outputs": [
        {
          "output_type": "stream",
          "name": "stdout",
          "text": [
            "0.055000000000000604\n"
          ]
        },
        {
          "output_type": "execute_result",
          "data": {
            "text/plain": [
              "False"
            ]
          },
          "metadata": {},
          "execution_count": 23
        }
      ]
    },
    {
      "cell_type": "markdown",
      "source": [
        "These arithmetic errors can be mitigated by using the round() function:"
      ],
      "metadata": {
        "id": "bVx_ubk4g4_w"
      }
    },
    {
      "cell_type": "code",
      "source": [
        "# Without round:\n",
        "sum = 0.2 + 0.4 + 0.6\n",
        "print(sum)\n",
        "sum == 1.2\n"
      ],
      "metadata": {
        "colab": {
          "base_uri": "https://localhost:8080/"
        },
        "id": "6Pv5eTm9g-Z1",
        "outputId": "b3d4e5b5-3d46-4d88-941d-eac939a9e677"
      },
      "execution_count": 25,
      "outputs": [
        {
          "output_type": "stream",
          "name": "stdout",
          "text": [
            "1.2000000000000002\n"
          ]
        },
        {
          "output_type": "execute_result",
          "data": {
            "text/plain": [
              "False"
            ]
          },
          "metadata": {},
          "execution_count": 25
        }
      ]
    },
    {
      "cell_type": "code",
      "source": [
        "# With round:\n",
        "sum = round(0.2 + 0.4 + 0.6, 5)\n",
        "print(sum)\n",
        "sum == round(1.2, 5)"
      ],
      "metadata": {
        "colab": {
          "base_uri": "https://localhost:8080/"
        },
        "id": "aUxlIZUlhQA2",
        "outputId": "ef5ed33b-4367-48da-b8a8-fb0eaf8915f6"
      },
      "execution_count": 26,
      "outputs": [
        {
          "output_type": "stream",
          "name": "stdout",
          "text": [
            "1.2\n"
          ]
        },
        {
          "output_type": "execute_result",
          "data": {
            "text/plain": [
              "True"
            ]
          },
          "metadata": {},
          "execution_count": 26
        }
      ]
    },
    {
      "cell_type": "markdown",
      "source": [
        "These round off errors can also accumulate over a series of calculations.\n",
        "\n",
        "This magnifies their impact on the result."
      ],
      "metadata": {
        "id": "l1_TUMEmig2t"
      }
    },
    {
      "cell_type": "code",
      "source": [
        "# One operation:\n",
        "1 + 1/3 - 1/3"
      ],
      "metadata": {
        "colab": {
          "base_uri": "https://localhost:8080/"
        },
        "id": "q4ScEx-9iuxP",
        "outputId": "84b38627-a384-4687-cffe-df7b4388f0b0"
      },
      "execution_count": 41,
      "outputs": [
        {
          "output_type": "execute_result",
          "data": {
            "text/plain": [
              "1.0"
            ]
          },
          "metadata": {},
          "execution_count": 41
        }
      ]
    },
    {
      "cell_type": "code",
      "source": [
        "# 100 Operations:\n",
        "def add_n_sub(i):\n",
        "  result = 1\n",
        "  for num in range(i):\n",
        "    result += 1/3\n",
        "\n",
        "  for num in range(i):\n",
        "    result -= 1/3\n",
        "  return result\n",
        "\n",
        "print(add_n_sub(100))"
      ],
      "metadata": {
        "colab": {
          "base_uri": "https://localhost:8080/"
        },
        "id": "JBpTZ_Uki5wC",
        "outputId": "d0c19b2f-60ef-4c1c-c11e-5917b2cc4209"
      },
      "execution_count": 42,
      "outputs": [
        {
          "output_type": "stream",
          "name": "stdout",
          "text": [
            "1.0000000000000002\n"
          ]
        }
      ]
    },
    {
      "cell_type": "code",
      "source": [
        "# 1000 Operations\n",
        "print(add_n_sub(1000))\n",
        "\n",
        "# 10000 Operations\n",
        "print(add_n_sub(10000))"
      ],
      "metadata": {
        "colab": {
          "base_uri": "https://localhost:8080/"
        },
        "id": "FkDTU_ymj0qu",
        "outputId": "4a086ed2-75c1-4888-b723-005e48b446c4"
      },
      "execution_count": 43,
      "outputs": [
        {
          "output_type": "stream",
          "name": "stdout",
          "text": [
            "1.0000000000000064\n",
            "1.0000000000001166\n"
          ]
        }
      ]
    },
    {
      "cell_type": "code",
      "source": [
        "# 1000000 Operations; the number decreases\n",
        "print(add_n_sub(1000000))"
      ],
      "metadata": {
        "colab": {
          "base_uri": "https://localhost:8080/"
        },
        "id": "2S_PmYoPkArh",
        "outputId": "219e6424-cd17-4bfd-af66-3b73395faa41"
      },
      "execution_count": 44,
      "outputs": [
        {
          "output_type": "stream",
          "name": "stdout",
          "text": [
            "0.9999999999727986\n"
          ]
        }
      ]
    }
  ]
}